{
 "cells": [
  {
   "cell_type": "code",
   "execution_count": null,
   "id": "b1a779dd-5f5a-4106-b48f-17908c4c96c5",
   "metadata": {},
   "outputs": [],
   "source": []
  },
  {
   "cell_type": "code",
   "execution_count": null,
   "id": "8f92b75c-0812-49aa-9353-c7ef11871b21",
   "metadata": {},
   "outputs": [],
   "source": []
  },
  {
   "cell_type": "code",
   "execution_count": null,
   "id": "f788cc5c-1466-4d85-bc2b-3c1518f91f0f",
   "metadata": {},
   "outputs": [],
   "source": [
    "# Q1. Explain why we have to use the Exception class while creating a Custom Exception.\n",
    "\n",
    "'''we are using custom exception bcz it gives us more flexibility and we can add additional\n",
    "   attributes and uses of exceptions is describing the problem relatedm to the project'''"
   ]
  },
  {
   "cell_type": "code",
   "execution_count": null,
   "id": "6d059e1b-6c66-4c05-b8f7-39052f24096c",
   "metadata": {},
   "outputs": [],
   "source": []
  },
  {
   "cell_type": "code",
   "execution_count": 1,
   "id": "7618f6ad-e851-44c3-9c94-7552a54e5916",
   "metadata": {},
   "outputs": [],
   "source": [
    "# Q2. Write a python program to print Python Exception Hierarchy.\n",
    "\n",
    "'''There are lots of hierarchy Exception some of them'''\n",
    "\n",
    "try :\n",
    "    10/0\n",
    "except ArithmeticError as a:\n",
    "    import logging \n",
    "    logging.basicConfig(filename = 'hierarchy.log',level = logging.INFO)\n",
    "    logging.info(\"im trying to handle error\")"
   ]
  },
  {
   "cell_type": "code",
   "execution_count": null,
   "id": "ca608683-1f5d-4c14-bc1b-d8228da70a35",
   "metadata": {},
   "outputs": [],
   "source": [
    "# Q3. What errors are defined in the ArithmeticError class? Explain any two with an example.\n",
    "\n",
    "\n",
    "try :\n",
    "    10/0\n",
    "except ArithmeticError as a:\n",
    "    import logging \n",
    "    logging.basicConfig(filename = 'hierarchy.log',level = logging.INFO)\n",
    "    logging.info(\"im trying to handle error\")\n",
    "\n"
   ]
  },
  {
   "cell_type": "code",
   "execution_count": null,
   "id": "e4ee80d3-e567-459b-a955-46247f59a1cd",
   "metadata": {},
   "outputs": [],
   "source": [
    "# Q4. Why LookupError class is used? Explain with an example KeyError and IndexError.\n",
    "\n",
    "\n",
    "'''there is exampel of lookuperror 1.indexerror 2.keyerror'''\n",
    "\n",
    "\n",
    "l = [1,2,3,4,55,66]\n",
    "try :\n",
    "    print(l[10])\n",
    "except IndexError as e:   #we can use lookUpError insted of IndexError\n",
    "    logging.info(\"handle index erroe \".format(e))\n",
    "    \n",
    "    \n",
    "    \n",
    "d = {\"key1\":\"rk\",\"key2\":\"roank\"}\n",
    "\n",
    "try :\n",
    "    print(d[\"key3\"])\n",
    "except KeyError as w :     #we can use lookUpError insted of KeyError\n",
    "    logging.ingo(\"handle the key error \".format(w))"
   ]
  },
  {
   "cell_type": "code",
   "execution_count": null,
   "id": "7c9b98d9-88de-4d8e-872a-548aae551c2e",
   "metadata": {},
   "outputs": [],
   "source": [
    "# Q5. Explain ImportError. What is ModuleNotFoundError?\n",
    "\n",
    "'''ModuleNotFoundError is a specific type of ImportError. \n",
    "   So if you have an except ImportError block, that will cover ModuleNotFoundError'''\n",
    "\n"
   ]
  },
  {
   "cell_type": "code",
   "execution_count": null,
   "id": "ba02dc68-1330-409a-b8cd-282e893d9d0a",
   "metadata": {},
   "outputs": [],
   "source": [
    "# Q6. List down some best practices for exception handling in python.\n",
    "\n",
    "try :\n",
    "    \n",
    "    a = 10/0\n",
    "except ZeroDivisionError as e:\n",
    "    print(e)\n",
    "    \n",
    "try :\n",
    "    int(\"sudh\")\n",
    "except (ValueError,TypeError) as e:\n",
    "    print(e)\n",
    "    \n",
    "try :\n",
    "    import rk\n",
    "except ImportError as e:\n",
    "    print(e)\n",
    "    \n",
    "l=[1,3,3,4,4]\n",
    "try:\n",
    "    print(l[10])\n",
    "except IndexError as e:\n",
    "    print(e)"
   ]
  },
  {
   "cell_type": "code",
   "execution_count": null,
   "id": "01803146-38b2-4818-b9c7-007ac9477eeb",
   "metadata": {},
   "outputs": [],
   "source": []
  }
 ],
 "metadata": {
  "kernelspec": {
   "display_name": "Python 3 (ipykernel)",
   "language": "python",
   "name": "python3"
  },
  "language_info": {
   "codemirror_mode": {
    "name": "ipython",
    "version": 3
   },
   "file_extension": ".py",
   "mimetype": "text/x-python",
   "name": "python",
   "nbconvert_exporter": "python",
   "pygments_lexer": "ipython3",
   "version": "3.10.8"
  }
 },
 "nbformat": 4,
 "nbformat_minor": 5
}
